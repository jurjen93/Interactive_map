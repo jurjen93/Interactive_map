{
 "cells": [
  {
   "cell_type": "code",
   "execution_count": 1,
   "metadata": {},
   "outputs": [],
   "source": [
    "import pandas as pd\n",
    "import pycountry\n",
    "import warnings\n",
    "import random\n",
    "warnings.filterwarnings(\"ignore\")\n",
    "import numpy as np"
   ]
  },
  {
   "cell_type": "code",
   "execution_count": 2,
   "metadata": {},
   "outputs": [],
   "source": [
    "iso2 = {country.alpha_2: country.name.lower() for country in pycountry.countries}\n",
    "iso3 = {country.alpha_3 : country.name for country in pycountry.countries}\n",
    "iso32 = {country.alpha_3 : country.alpha_2 for country in pycountry.countries}\n",
    "iso2_inverse = {country.name.upper():country.alpha_2 for country in pycountry.countries}\n",
    "iso3_inverse = {country.name.upper(): country.alpha_3 for country in pycountry.countries}"
   ]
  },
  {
   "cell_type": "markdown",
   "metadata": {},
   "source": [
    "# Population number\n",
    "Population number from the UN"
   ]
  },
  {
   "cell_type": "code",
   "execution_count": 3,
   "metadata": {},
   "outputs": [],
   "source": [
    "population = pd.read_csv('country_data/population.csv', error_bad_lines=False)[['Country Code', 'Country Name', '2019']]"
   ]
  },
  {
   "cell_type": "markdown",
   "metadata": {},
   "source": [
    "# Number of households\n",
    "number of households are coming from: https://www.prb.org/international/indicator/hh-size-av/map/country/"
   ]
  },
  {
   "cell_type": "code",
   "execution_count": 4,
   "metadata": {},
   "outputs": [],
   "source": [
    "def get_iso3(country): \n",
    "    if country == \"Cote d'Ivoire\":\n",
    "        country = \"Côte d'Ivoire\"\n",
    "    elif country == \"Bolivia\":\n",
    "        country = 'Bolivia, Plurinational State of'\n",
    "    elif country == \"Dem. Republic of the Congo\":\n",
    "        country = 'Congo, The Democratic Republic of the'\n",
    "    elif country == 'Iran':\n",
    "        country = 'Iran, Islamic Republic of'\n",
    "    elif country == \"Lao People's Dem. Republic\":\n",
    "        country = \"Lao People's Democratic Republic\"\n",
    "    elif country == 'Republic of Moldova':\n",
    "        country = 'Moldova, Republic of'\n",
    "    elif country == 'Reunion':\n",
    "        country = 'Réunion'\n",
    "    elif country == 'Saint-Barthelemy':\n",
    "        country = 'Saint Barthélemy'\n",
    "    elif country == 'Saint-Martin (French part)':\n",
    "        country = 'Saint Martin (French part)'\n",
    "    elif country == 'State of Palestine':\n",
    "        country = 'Palestine, State of'\n",
    "    elif country == 'Tanzania':\n",
    "        country = 'Tanzania, United Republic of'\n",
    "    elif country == 'Venezuela':\n",
    "        country = 'Venezuela, Bolivarian Republic of'\n",
    "    elif country == 'Vietnam':\n",
    "        country = 'Viet Nam'\n",
    "    elif country == 'Swaziland':\n",
    "        country = 'Eswatini'\n",
    "    try:\n",
    "        return iso3_inverse[country.upper()]\n",
    "    except:\n",
    "        print('ISO-3 mapping wrong for:')\n",
    "        print(country)"
   ]
  },
  {
   "cell_type": "code",
   "execution_count": 5,
   "metadata": {},
   "outputs": [],
   "source": [
    "number_of_households = pd.read_csv('country_data/number_of_households.csv', error_bad_lines=True)\n",
    "number_of_households['ISO3'] = number_of_households.Country.apply(get_iso3)\n",
    "number_of_households = number_of_households[['ISO3', 'noh']]"
   ]
  },
  {
   "cell_type": "code",
   "execution_count": 6,
   "metadata": {},
   "outputs": [
    {
     "data": {
      "text/html": [
       "<div>\n",
       "<style scoped>\n",
       "    .dataframe tbody tr th:only-of-type {\n",
       "        vertical-align: middle;\n",
       "    }\n",
       "\n",
       "    .dataframe tbody tr th {\n",
       "        vertical-align: top;\n",
       "    }\n",
       "\n",
       "    .dataframe thead th {\n",
       "        text-align: right;\n",
       "    }\n",
       "</style>\n",
       "<table border=\"1\" class=\"dataframe\">\n",
       "  <thead>\n",
       "    <tr style=\"text-align: right;\">\n",
       "      <th></th>\n",
       "      <th>ISO3</th>\n",
       "      <th>noh</th>\n",
       "    </tr>\n",
       "  </thead>\n",
       "  <tbody>\n",
       "    <tr>\n",
       "      <th>0</th>\n",
       "      <td>AFG</td>\n",
       "      <td>8.036739</td>\n",
       "    </tr>\n",
       "    <tr>\n",
       "      <th>1</th>\n",
       "      <td>ALB</td>\n",
       "      <td>3.299611</td>\n",
       "    </tr>\n",
       "    <tr>\n",
       "      <th>2</th>\n",
       "      <td>AGO</td>\n",
       "      <td>4.815657</td>\n",
       "    </tr>\n",
       "    <tr>\n",
       "      <th>3</th>\n",
       "      <td>ARG</td>\n",
       "      <td>3.258590</td>\n",
       "    </tr>\n",
       "    <tr>\n",
       "      <th>4</th>\n",
       "      <td>ARM</td>\n",
       "      <td>3.542085</td>\n",
       "    </tr>\n",
       "    <tr>\n",
       "      <th>...</th>\n",
       "      <td>...</td>\n",
       "      <td>...</td>\n",
       "    </tr>\n",
       "    <tr>\n",
       "      <th>155</th>\n",
       "      <td>VEN</td>\n",
       "      <td>4.331362</td>\n",
       "    </tr>\n",
       "    <tr>\n",
       "      <th>156</th>\n",
       "      <td>VNM</td>\n",
       "      <td>3.783099</td>\n",
       "    </tr>\n",
       "    <tr>\n",
       "      <th>157</th>\n",
       "      <td>YEM</td>\n",
       "      <td>6.672681</td>\n",
       "    </tr>\n",
       "    <tr>\n",
       "      <th>158</th>\n",
       "      <td>ZMB</td>\n",
       "      <td>5.130789</td>\n",
       "    </tr>\n",
       "    <tr>\n",
       "      <th>159</th>\n",
       "      <td>ZWE</td>\n",
       "      <td>4.077179</td>\n",
       "    </tr>\n",
       "  </tbody>\n",
       "</table>\n",
       "<p>160 rows × 2 columns</p>\n",
       "</div>"
      ],
      "text/plain": [
       "    ISO3       noh\n",
       "0    AFG  8.036739\n",
       "1    ALB  3.299611\n",
       "2    AGO  4.815657\n",
       "3    ARG  3.258590\n",
       "4    ARM  3.542085\n",
       "..   ...       ...\n",
       "155  VEN  4.331362\n",
       "156  VNM  3.783099\n",
       "157  YEM  6.672681\n",
       "158  ZMB  5.130789\n",
       "159  ZWE  4.077179\n",
       "\n",
       "[160 rows x 2 columns]"
      ]
     },
     "execution_count": 6,
     "metadata": {},
     "output_type": "execute_result"
    }
   ],
   "source": [
    "number_of_households"
   ]
  },
  {
   "cell_type": "code",
   "execution_count": 6,
   "metadata": {},
   "outputs": [],
   "source": [
    "data = number_of_households.merge(population, left_on='ISO3', right_on='Country Code')"
   ]
  },
  {
   "cell_type": "code",
   "execution_count": 7,
   "metadata": {},
   "outputs": [],
   "source": [
    "def iso3_country_name(inp):\n",
    "    return iso3[inp]\n",
    "\n",
    "def iso3_2(inp):\n",
    "    return iso32[inp]"
   ]
  },
  {
   "cell_type": "markdown",
   "metadata": {},
   "source": [
    "# Languages"
   ]
  },
  {
   "cell_type": "code",
   "execution_count": 8,
   "metadata": {},
   "outputs": [],
   "source": [
    "import babel\n",
    "from babel import languages\n",
    "language_iso_name = {}\n",
    "for language in pycountry.languages:\n",
    "    try:\n",
    "        language_iso_name.update({language.alpha_2: language.name, language.alpha_3: language.name})\n",
    "    except:\n",
    "        language_iso_name.update({language.alpha_3: language.name})"
   ]
  },
  {
   "cell_type": "code",
   "execution_count": 9,
   "metadata": {},
   "outputs": [],
   "source": [
    "def get_languages(iso3):\n",
    "    langs = babel.languages.get_official_languages(iso32[iso3])\n",
    "    lan = []\n",
    "    for language in langs:\n",
    "        try:\n",
    "            lan.append(language_iso_name[language])\n",
    "        except:\n",
    "            try:\n",
    "                lan.append(language_iso_name[language[0:2]])\n",
    "            except:\n",
    "                print(language)\n",
    "    return ', '.join(lan)\n",
    "\n",
    "def translation_yes_no(iso3):\n",
    "    langs = babel.languages.get_official_languages(iso32[iso3])\n",
    "    if 'en' in langs:\n",
    "        return None\n",
    "    else:\n",
    "        return 'Yes'"
   ]
  },
  {
   "cell_type": "code",
   "execution_count": 10,
   "metadata": {},
   "outputs": [],
   "source": [
    "data['languages'] = data['ISO3'].apply(get_languages)"
   ]
  },
  {
   "cell_type": "code",
   "execution_count": 11,
   "metadata": {},
   "outputs": [],
   "source": [
    "data.to_csv('map_data.csv', index=False)"
   ]
  }
 ],
 "metadata": {
  "kernelspec": {
   "display_name": "Python 3",
   "language": "python",
   "name": "python3"
  },
  "language_info": {
   "codemirror_mode": {
    "name": "ipython",
    "version": 3
   },
   "file_extension": ".py",
   "mimetype": "text/x-python",
   "name": "python",
   "nbconvert_exporter": "python",
   "pygments_lexer": "ipython3",
   "version": "3.7.1"
  }
 },
 "nbformat": 4,
 "nbformat_minor": 4
}
